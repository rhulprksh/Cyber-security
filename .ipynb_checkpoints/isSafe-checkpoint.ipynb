{
 "cells": [
  {
   "cell_type": "code",
   "execution_count": 1,
   "metadata": {},
   "outputs": [],
   "source": [
    "import pandas as pd\n",
    "import numpy as np\n",
    "import urllib.request, json "
   ]
  },
  {
   "cell_type": "code",
   "execution_count": 2,
   "metadata": {},
   "outputs": [],
   "source": [
    "with open('data.json') as f:\n",
    "    data=json.load(f)"
   ]
  },
  {
   "cell_type": "code",
   "execution_count": 3,
   "metadata": {},
   "outputs": [],
   "source": [
    "xx = pd.json_normalize(data)"
   ]
  },
  {
   "cell_type": "code",
   "execution_count": 4,
   "metadata": {},
   "outputs": [
    {
     "data": {
      "text/html": [
       "<div>\n",
       "<style scoped>\n",
       "    .dataframe tbody tr th:only-of-type {\n",
       "        vertical-align: middle;\n",
       "    }\n",
       "\n",
       "    .dataframe tbody tr th {\n",
       "        vertical-align: top;\n",
       "    }\n",
       "\n",
       "    .dataframe thead th {\n",
       "        text-align: right;\n",
       "    }\n",
       "</style>\n",
       "<table border=\"1\" class=\"dataframe\">\n",
       "  <thead>\n",
       "    <tr style=\"text-align: right;\">\n",
       "      <th></th>\n",
       "      <th>isSafe</th>\n",
       "      <th>req.baseUrl</th>\n",
       "      <th>req.body.note.title</th>\n",
       "      <th>req.body.note.desc</th>\n",
       "      <th>req.fresh</th>\n",
       "      <th>req.headers.host</th>\n",
       "      <th>req.headers.user-agent</th>\n",
       "      <th>req.headers.content-type</th>\n",
       "      <th>req.headers.org_id</th>\n",
       "      <th>req.headers.user_session_id</th>\n",
       "      <th>...</th>\n",
       "      <th>req.hostname</th>\n",
       "      <th>req.ip</th>\n",
       "      <th>req.ips</th>\n",
       "      <th>req.originalUrl</th>\n",
       "      <th>req.path</th>\n",
       "      <th>req.protocol</th>\n",
       "      <th>req.secure</th>\n",
       "      <th>req.stale</th>\n",
       "      <th>req.subdomains</th>\n",
       "      <th>req.xhr</th>\n",
       "    </tr>\n",
       "  </thead>\n",
       "  <tbody>\n",
       "    <tr>\n",
       "      <th>0</th>\n",
       "      <td>True</td>\n",
       "      <td>/crm/note</td>\n",
       "      <td>Tina Johnson</td>\n",
       "      <td>Top recognize eat. Fact whom spend area thing ...</td>\n",
       "      <td>False</td>\n",
       "      <td>example.com</td>\n",
       "      <td>insomnia/2020.4.2</td>\n",
       "      <td>application/json</td>\n",
       "      <td>5f572820f65af8ac955b2e83</td>\n",
       "      <td>5fb27d3750b11901a35649fe</td>\n",
       "      <td>...</td>\n",
       "      <td>example.com</td>\n",
       "      <td>::ffff:117.99.96.244</td>\n",
       "      <td>[]</td>\n",
       "      <td>/crm/note</td>\n",
       "      <td>/note</td>\n",
       "      <td>http</td>\n",
       "      <td>False</td>\n",
       "      <td>True</td>\n",
       "      <td>[crm]</td>\n",
       "      <td>False</td>\n",
       "    </tr>\n",
       "    <tr>\n",
       "      <th>1</th>\n",
       "      <td>True</td>\n",
       "      <td>/crm/note</td>\n",
       "      <td>Clayton Cooper</td>\n",
       "      <td>As possible American many prepare four strong....</td>\n",
       "      <td>False</td>\n",
       "      <td>example.com</td>\n",
       "      <td>insomnia/2020.4.2</td>\n",
       "      <td>application/json</td>\n",
       "      <td>5f572820f65af8ac955b2e83</td>\n",
       "      <td>5fb27d3750b11901a35649fe</td>\n",
       "      <td>...</td>\n",
       "      <td>example.com</td>\n",
       "      <td>::ffff:117.99.96.244</td>\n",
       "      <td>[]</td>\n",
       "      <td>/crm/note</td>\n",
       "      <td>/note</td>\n",
       "      <td>http</td>\n",
       "      <td>False</td>\n",
       "      <td>True</td>\n",
       "      <td>[crm]</td>\n",
       "      <td>False</td>\n",
       "    </tr>\n",
       "    <tr>\n",
       "      <th>2</th>\n",
       "      <td>False</td>\n",
       "      <td>/crm/note</td>\n",
       "      <td>Curtis Wolfe</td>\n",
       "      <td>Tuesday Notes or 2 like 2 XSP Class</td>\n",
       "      <td>False</td>\n",
       "      <td>example.com</td>\n",
       "      <td>insomnia/2020.4.2</td>\n",
       "      <td>application/json</td>\n",
       "      <td>5f572820f65af8ac955b2e83</td>\n",
       "      <td>5fb27d3750b11901a35649fe</td>\n",
       "      <td>...</td>\n",
       "      <td>example.com</td>\n",
       "      <td>::ffff:117.99.96.244</td>\n",
       "      <td>[]</td>\n",
       "      <td>/crm/note</td>\n",
       "      <td>/note</td>\n",
       "      <td>http</td>\n",
       "      <td>False</td>\n",
       "      <td>True</td>\n",
       "      <td>[crm]</td>\n",
       "      <td>False</td>\n",
       "    </tr>\n",
       "    <tr>\n",
       "      <th>3</th>\n",
       "      <td>True</td>\n",
       "      <td>/crm/note</td>\n",
       "      <td>Laura Fisher</td>\n",
       "      <td>State third represent energy campaign not forg...</td>\n",
       "      <td>False</td>\n",
       "      <td>example.com</td>\n",
       "      <td>insomnia/2020.4.2</td>\n",
       "      <td>application/json</td>\n",
       "      <td>5f572820f65af8ac955b2e83</td>\n",
       "      <td>5fb27d3750b11901a35649fe</td>\n",
       "      <td>...</td>\n",
       "      <td>example.com</td>\n",
       "      <td>::ffff:117.99.96.244</td>\n",
       "      <td>[]</td>\n",
       "      <td>/crm/note</td>\n",
       "      <td>/note</td>\n",
       "      <td>http</td>\n",
       "      <td>False</td>\n",
       "      <td>True</td>\n",
       "      <td>[crm]</td>\n",
       "      <td>False</td>\n",
       "    </tr>\n",
       "    <tr>\n",
       "      <th>4</th>\n",
       "      <td>False</td>\n",
       "      <td>/crm/note</td>\n",
       "      <td>Tyler Santos</td>\n",
       "      <td>Us enjoy since. Time identify image position o...</td>\n",
       "      <td>False</td>\n",
       "      <td>example.com</td>\n",
       "      <td>insomnia/2020.4.2</td>\n",
       "      <td>application/json</td>\n",
       "      <td>5f572820f65af8ac955b2e83</td>\n",
       "      <td>5fb27d3750b11901a35649fe</td>\n",
       "      <td>...</td>\n",
       "      <td>example.com</td>\n",
       "      <td>::ffff:117.99.96.244</td>\n",
       "      <td>[]</td>\n",
       "      <td>/crm/note</td>\n",
       "      <td>/note</td>\n",
       "      <td>http</td>\n",
       "      <td>False</td>\n",
       "      <td>True</td>\n",
       "      <td>[crm]</td>\n",
       "      <td>False</td>\n",
       "    </tr>\n",
       "  </tbody>\n",
       "</table>\n",
       "<p>5 rows × 24 columns</p>\n",
       "</div>"
      ],
      "text/plain": [
       "   isSafe req.baseUrl req.body.note.title  \\\n",
       "0    True   /crm/note        Tina Johnson   \n",
       "1    True   /crm/note      Clayton Cooper   \n",
       "2   False   /crm/note        Curtis Wolfe   \n",
       "3    True   /crm/note        Laura Fisher   \n",
       "4   False   /crm/note        Tyler Santos   \n",
       "\n",
       "                                  req.body.note.desc  req.fresh  \\\n",
       "0  Top recognize eat. Fact whom spend area thing ...      False   \n",
       "1  As possible American many prepare four strong....      False   \n",
       "2                Tuesday Notes or 2 like 2 XSP Class      False   \n",
       "3  State third represent energy campaign not forg...      False   \n",
       "4  Us enjoy since. Time identify image position o...      False   \n",
       "\n",
       "  req.headers.host req.headers.user-agent req.headers.content-type  \\\n",
       "0      example.com      insomnia/2020.4.2         application/json   \n",
       "1      example.com      insomnia/2020.4.2         application/json   \n",
       "2      example.com      insomnia/2020.4.2         application/json   \n",
       "3      example.com      insomnia/2020.4.2         application/json   \n",
       "4      example.com      insomnia/2020.4.2         application/json   \n",
       "\n",
       "         req.headers.org_id req.headers.user_session_id  ... req.hostname  \\\n",
       "0  5f572820f65af8ac955b2e83    5fb27d3750b11901a35649fe  ...  example.com   \n",
       "1  5f572820f65af8ac955b2e83    5fb27d3750b11901a35649fe  ...  example.com   \n",
       "2  5f572820f65af8ac955b2e83    5fb27d3750b11901a35649fe  ...  example.com   \n",
       "3  5f572820f65af8ac955b2e83    5fb27d3750b11901a35649fe  ...  example.com   \n",
       "4  5f572820f65af8ac955b2e83    5fb27d3750b11901a35649fe  ...  example.com   \n",
       "\n",
       "                 req.ip req.ips req.originalUrl req.path req.protocol  \\\n",
       "0  ::ffff:117.99.96.244      []       /crm/note    /note         http   \n",
       "1  ::ffff:117.99.96.244      []       /crm/note    /note         http   \n",
       "2  ::ffff:117.99.96.244      []       /crm/note    /note         http   \n",
       "3  ::ffff:117.99.96.244      []       /crm/note    /note         http   \n",
       "4  ::ffff:117.99.96.244      []       /crm/note    /note         http   \n",
       "\n",
       "  req.secure req.stale req.subdomains req.xhr  \n",
       "0      False      True          [crm]   False  \n",
       "1      False      True          [crm]   False  \n",
       "2      False      True          [crm]   False  \n",
       "3      False      True          [crm]   False  \n",
       "4      False      True          [crm]   False  \n",
       "\n",
       "[5 rows x 24 columns]"
      ]
     },
     "execution_count": 4,
     "metadata": {},
     "output_type": "execute_result"
    }
   ],
   "source": [
    "xx.head()"
   ]
  },
  {
   "cell_type": "code",
   "execution_count": 5,
   "metadata": {},
   "outputs": [
    {
     "data": {
      "text/plain": [
       "(1000, 24)"
      ]
     },
     "execution_count": 5,
     "metadata": {},
     "output_type": "execute_result"
    }
   ],
   "source": [
    "xx.shape"
   ]
  },
  {
   "cell_type": "code",
   "execution_count": 18,
   "metadata": {},
   "outputs": [
    {
     "name": "stdout",
     "output_type": "stream",
     "text": [
      "isSafe\n",
      "req.baseUrl\n",
      "req.body.note.title\n",
      "req.body.note.desc\n",
      "req.fresh\n",
      "req.headers.host\n",
      "req.headers.user-agent\n",
      "req.headers.content-type\n",
      "req.headers.org_id\n",
      "req.headers.user_session_id\n",
      "req.headers.accept\n",
      "req.headers.content-length\n",
      "req.headers.user.name\n",
      "req.headers.user.role\n",
      "req.hostname\n",
      "req.ip\n",
      "req.ips\n",
      "req.originalUrl\n",
      "req.path\n",
      "req.protocol\n",
      "req.secure\n",
      "req.stale\n",
      "req.subdomains\n",
      "req.xhr\n"
     ]
    }
   ],
   "source": [
    "for col in xx.columns: \n",
    "    print(col) "
   ]
  },
  {
   "cell_type": "code",
   "execution_count": 39,
   "metadata": {},
   "outputs": [
    {
     "name": "stdout",
     "output_type": "stream",
     "text": [
      "True     572\n",
      "False    428\n",
      "Name: isSafe, dtype: int64\n",
      "**********************************************************************************************\n",
      "/crm/note    1000\n",
      "Name: req.baseUrl, dtype: int64\n",
      "**********************************************************************************************\n",
      "Michael Smith     3\n",
      "Heather Smith     2\n",
      "David Adams       2\n",
      "Heather Davis     2\n",
      "Michael Davis     2\n",
      "                 ..\n",
      "Craig Williams    1\n",
      "Erika Johnson     1\n",
      "Meredith Jones    1\n",
      "Stacy Bailey      1\n",
      "Katie Lopez       1\n",
      "Name: req.body.note.title, Length: 994, dtype: int64\n",
      "**********************************************************************************************\n",
      "note title <title onPropertyChange title onPropertyChange=\"javascript:javascript:alert(1)\"></title onPropertyChange>                                                          36\n",
      "Meeting \")) or ((\"x\"))=((\"x Notes 12:30                                                                                                                                       33\n",
      "text1<video src=1 href=1 onerror=\"javascript:alert(1)\"></video>hello                                                                                                          32\n",
      "admin\"/* your section of notes is going to be blank                                                                                                                           29\n",
      "ext1%3Cvideo+src%3D1+href%3D1+onerror%3D%22javascript%3Aalert%281%29%22%3E%3C%2Fvideo%3E                                                                                      29\n",
      "                                                                                                                                                                              ..\n",
      "In expect director into how always work. Cold shake trip value difference whatever.                                                                                            1\n",
      "Fall protect hope particular wife wonder table. Student cover campaign reality.                                                                                                1\n",
      "Either expect western follow matter fall allow. Many difference box follow. Tough catch administration not happen staff occur house.                                           1\n",
      "Spend into care far. Certain store when. Recently into sport enter.\\nLittle past safe newspaper power poor response fact. Mother word pressure wall class box number true.     1\n",
      "Top voice according. Yard word media. Entire question teach receive.\\nYour guy direction until continue evening trip. Throw though go stuff positive value.                    1\n",
      "Name: req.body.note.desc, Length: 750, dtype: int64\n",
      "**********************************************************************************************\n",
      "False    1000\n",
      "Name: req.fresh, dtype: int64\n",
      "**********************************************************************************************\n",
      "example.com    1000\n",
      "Name: req.headers.host, dtype: int64\n",
      "**********************************************************************************************\n",
      "insomnia/2020.4.2    1000\n",
      "Name: req.headers.user-agent, dtype: int64\n",
      "**********************************************************************************************\n",
      "application/json    1000\n",
      "Name: req.headers.content-type, dtype: int64\n",
      "**********************************************************************************************\n",
      "5f572820f65af8ac955b2e83    1000\n",
      "Name: req.headers.org_id, dtype: int64\n",
      "**********************************************************************************************\n",
      "5fb27d3750b11901a35649fe    1000\n",
      "Name: req.headers.user_session_id, dtype: int64\n",
      "**********************************************************************************************\n",
      "*/*    1000\n",
      "Name: req.headers.accept, dtype: int64\n",
      "**********************************************************************************************\n",
      "70    1000\n",
      "Name: req.headers.content-length, dtype: int64\n",
      "**********************************************************************************************\n",
      "sam    1000\n",
      "Name: req.headers.user.name, dtype: int64\n",
      "**********************************************************************************************\n",
      "sales1    1000\n",
      "Name: req.headers.user.role, dtype: int64\n",
      "**********************************************************************************************\n",
      "example.com    1000\n",
      "Name: req.hostname, dtype: int64\n",
      "**********************************************************************************************\n",
      "::ffff:117.99.96.244    1000\n",
      "Name: req.ip, dtype: int64\n",
      "**********************************************************************************************\n",
      "[]    1000\n",
      "Name: req.ips, dtype: int64\n",
      "**********************************************************************************************\n",
      "/crm/note    1000\n",
      "Name: req.originalUrl, dtype: int64\n",
      "**********************************************************************************************\n",
      "/note    1000\n",
      "Name: req.path, dtype: int64\n",
      "**********************************************************************************************\n",
      "http    1000\n",
      "Name: req.protocol, dtype: int64\n",
      "**********************************************************************************************\n",
      "False    1000\n",
      "Name: req.secure, dtype: int64\n",
      "**********************************************************************************************\n",
      "True    1000\n",
      "Name: req.stale, dtype: int64\n",
      "**********************************************************************************************\n",
      "[crm]    1000\n",
      "Name: req.subdomains, dtype: int64\n",
      "**********************************************************************************************\n",
      "False    1000\n",
      "Name: req.xhr, dtype: int64\n",
      "**********************************************************************************************\n"
     ]
    }
   ],
   "source": [
    "for col in xx.columns: \n",
    "    print(xx[col].value_counts())\n",
    "    print('**********************************************************************************************')"
   ]
  },
  {
   "cell_type": "code",
   "execution_count": 6,
   "metadata": {},
   "outputs": [
    {
     "data": {
      "text/plain": [
       "True     572\n",
       "False    428\n",
       "Name: isSafe, dtype: int64"
      ]
     },
     "execution_count": 6,
     "metadata": {},
     "output_type": "execute_result"
    }
   ],
   "source": [
    "xx['isSafe'].value_counts()"
   ]
  },
  {
   "cell_type": "code",
   "execution_count": 9,
   "metadata": {},
   "outputs": [
    {
     "data": {
      "text/plain": [
       "/crm/note    1000\n",
       "Name: req.baseUrl, dtype: int64"
      ]
     },
     "execution_count": 9,
     "metadata": {},
     "output_type": "execute_result"
    }
   ],
   "source": [
    "xx['req.baseUrl'].value_counts()"
   ]
  },
  {
   "cell_type": "code",
   "execution_count": 35,
   "metadata": {},
   "outputs": [
    {
     "data": {
      "text/plain": [
       "Michael Smith     3\n",
       "Heather Smith     2\n",
       "David Adams       2\n",
       "Heather Davis     2\n",
       "Michael Davis     2\n",
       "                 ..\n",
       "Craig Williams    1\n",
       "Erika Johnson     1\n",
       "Meredith Jones    1\n",
       "Stacy Bailey      1\n",
       "Katie Lopez       1\n",
       "Name: req.body.note.title, Length: 994, dtype: int64"
      ]
     },
     "execution_count": 35,
     "metadata": {},
     "output_type": "execute_result"
    }
   ],
   "source": [
    "xx['req.body.note.title'].value_counts()"
   ]
  },
  {
   "cell_type": "code",
   "execution_count": 36,
   "metadata": {},
   "outputs": [
    {
     "data": {
      "text/plain": [
       "note title <title onPropertyChange title onPropertyChange=\"javascript:javascript:alert(1)\"></title onPropertyChange>                                                          36\n",
       "Meeting \")) or ((\"x\"))=((\"x Notes 12:30                                                                                                                                       33\n",
       "text1<video src=1 href=1 onerror=\"javascript:alert(1)\"></video>hello                                                                                                          32\n",
       "admin\"/* your section of notes is going to be blank                                                                                                                           29\n",
       "ext1%3Cvideo+src%3D1+href%3D1+onerror%3D%22javascript%3Aalert%281%29%22%3E%3C%2Fvideo%3E                                                                                      29\n",
       "                                                                                                                                                                              ..\n",
       "In expect director into how always work. Cold shake trip value difference whatever.                                                                                            1\n",
       "Fall protect hope particular wife wonder table. Student cover campaign reality.                                                                                                1\n",
       "Either expect western follow matter fall allow. Many difference box follow. Tough catch administration not happen staff occur house.                                           1\n",
       "Spend into care far. Certain store when. Recently into sport enter.\\nLittle past safe newspaper power poor response fact. Mother word pressure wall class box number true.     1\n",
       "Top voice according. Yard word media. Entire question teach receive.\\nYour guy direction until continue evening trip. Throw though go stuff positive value.                    1\n",
       "Name: req.body.note.desc, Length: 750, dtype: int64"
      ]
     },
     "execution_count": 36,
     "metadata": {},
     "output_type": "execute_result"
    }
   ],
   "source": [
    "xx['req.body.note.desc'].value_counts()"
   ]
  },
  {
   "cell_type": "code",
   "execution_count": 11,
   "metadata": {},
   "outputs": [
    {
     "data": {
      "text/plain": [
       "False    1000\n",
       "Name: req.fresh, dtype: int64"
      ]
     },
     "execution_count": 11,
     "metadata": {},
     "output_type": "execute_result"
    }
   ],
   "source": [
    "xx['req.fresh'].value_counts()"
   ]
  },
  {
   "cell_type": "code",
   "execution_count": 12,
   "metadata": {},
   "outputs": [
    {
     "data": {
      "text/plain": [
       "example.com    1000\n",
       "Name: req.headers.host, dtype: int64"
      ]
     },
     "execution_count": 12,
     "metadata": {},
     "output_type": "execute_result"
    }
   ],
   "source": [
    "xx['req.headers.host'].value_counts()"
   ]
  },
  {
   "cell_type": "code",
   "execution_count": 13,
   "metadata": {},
   "outputs": [
    {
     "data": {
      "text/plain": [
       "insomnia/2020.4.2    1000\n",
       "Name: req.headers.user-agent, dtype: int64"
      ]
     },
     "execution_count": 13,
     "metadata": {},
     "output_type": "execute_result"
    }
   ],
   "source": [
    "xx['req.headers.user-agent'].value_counts()"
   ]
  },
  {
   "cell_type": "code",
   "execution_count": 14,
   "metadata": {},
   "outputs": [
    {
     "data": {
      "text/plain": [
       "application/json    1000\n",
       "Name: req.headers.content-type, dtype: int64"
      ]
     },
     "execution_count": 14,
     "metadata": {},
     "output_type": "execute_result"
    }
   ],
   "source": [
    "xx['req.headers.content-type'].value_counts()"
   ]
  },
  {
   "cell_type": "code",
   "execution_count": 15,
   "metadata": {},
   "outputs": [
    {
     "data": {
      "text/plain": [
       "5f572820f65af8ac955b2e83    1000\n",
       "Name: req.headers.org_id, dtype: int64"
      ]
     },
     "execution_count": 15,
     "metadata": {},
     "output_type": "execute_result"
    }
   ],
   "source": [
    "xx['req.headers.org_id'].value_counts()"
   ]
  },
  {
   "cell_type": "code",
   "execution_count": 16,
   "metadata": {},
   "outputs": [
    {
     "data": {
      "text/plain": [
       "5fb27d3750b11901a35649fe    1000\n",
       "Name: req.headers.user_session_id, dtype: int64"
      ]
     },
     "execution_count": 16,
     "metadata": {},
     "output_type": "execute_result"
    }
   ],
   "source": [
    "xx['req.headers.user_session_id'].value_counts()"
   ]
  },
  {
   "cell_type": "code",
   "execution_count": 19,
   "metadata": {},
   "outputs": [
    {
     "data": {
      "text/plain": [
       "*/*    1000\n",
       "Name: req.headers.accept, dtype: int64"
      ]
     },
     "execution_count": 19,
     "metadata": {},
     "output_type": "execute_result"
    }
   ],
   "source": [
    "xx['req.headers.accept'].value_counts()"
   ]
  },
  {
   "cell_type": "code",
   "execution_count": 20,
   "metadata": {},
   "outputs": [
    {
     "data": {
      "text/plain": [
       "70    1000\n",
       "Name: req.headers.content-length, dtype: int64"
      ]
     },
     "execution_count": 20,
     "metadata": {},
     "output_type": "execute_result"
    }
   ],
   "source": [
    "xx['req.headers.content-length'].value_counts()"
   ]
  },
  {
   "cell_type": "code",
   "execution_count": 21,
   "metadata": {},
   "outputs": [
    {
     "data": {
      "text/plain": [
       "sam    1000\n",
       "Name: req.headers.user.name, dtype: int64"
      ]
     },
     "execution_count": 21,
     "metadata": {},
     "output_type": "execute_result"
    }
   ],
   "source": [
    "xx['req.headers.user.name'].value_counts()"
   ]
  },
  {
   "cell_type": "code",
   "execution_count": 22,
   "metadata": {},
   "outputs": [
    {
     "data": {
      "text/plain": [
       "sales1    1000\n",
       "Name: req.headers.user.role, dtype: int64"
      ]
     },
     "execution_count": 22,
     "metadata": {},
     "output_type": "execute_result"
    }
   ],
   "source": [
    "xx['req.headers.user.role'].value_counts()"
   ]
  },
  {
   "cell_type": "code",
   "execution_count": 23,
   "metadata": {},
   "outputs": [
    {
     "data": {
      "text/plain": [
       "example.com    1000\n",
       "Name: req.hostname, dtype: int64"
      ]
     },
     "execution_count": 23,
     "metadata": {},
     "output_type": "execute_result"
    }
   ],
   "source": [
    "xx['req.hostname'].value_counts()"
   ]
  },
  {
   "cell_type": "code",
   "execution_count": 24,
   "metadata": {},
   "outputs": [
    {
     "data": {
      "text/plain": [
       "::ffff:117.99.96.244    1000\n",
       "Name: req.ip, dtype: int64"
      ]
     },
     "execution_count": 24,
     "metadata": {},
     "output_type": "execute_result"
    }
   ],
   "source": [
    "xx['req.ip'].value_counts()"
   ]
  },
  {
   "cell_type": "code",
   "execution_count": 25,
   "metadata": {},
   "outputs": [
    {
     "ename": "TypeError",
     "evalue": "unhashable type: 'list'",
     "output_type": "error",
     "traceback": [
      "\u001b[1;31m---------------------------------------------------------------------------\u001b[0m",
      "\u001b[1;31mTypeError\u001b[0m                                 Traceback (most recent call last)",
      "\u001b[1;32mpandas\\_libs\\hashtable_class_helper.pxi\u001b[0m in \u001b[0;36mpandas._libs.hashtable.PyObjectHashTable.map_locations\u001b[1;34m()\u001b[0m\n",
      "\u001b[1;31mTypeError\u001b[0m: unhashable type: 'list'"
     ]
    },
    {
     "name": "stderr",
     "output_type": "stream",
     "text": [
      "Exception ignored in: 'pandas._libs.index.IndexEngine._call_map_locations'\n",
      "Traceback (most recent call last):\n",
      "  File \"pandas\\_libs\\hashtable_class_helper.pxi\", line 1709, in pandas._libs.hashtable.PyObjectHashTable.map_locations\n",
      "TypeError: unhashable type: 'list'\n"
     ]
    },
    {
     "data": {
      "text/plain": [
       "[]    1000\n",
       "Name: req.ips, dtype: int64"
      ]
     },
     "execution_count": 25,
     "metadata": {},
     "output_type": "execute_result"
    }
   ],
   "source": [
    "xx['req.ips'].value_counts()"
   ]
  },
  {
   "cell_type": "code",
   "execution_count": 26,
   "metadata": {},
   "outputs": [
    {
     "data": {
      "text/plain": [
       "/crm/note    1000\n",
       "Name: req.originalUrl, dtype: int64"
      ]
     },
     "execution_count": 26,
     "metadata": {},
     "output_type": "execute_result"
    }
   ],
   "source": [
    "xx['req.originalUrl'].value_counts()"
   ]
  },
  {
   "cell_type": "code",
   "execution_count": 27,
   "metadata": {},
   "outputs": [
    {
     "data": {
      "text/plain": [
       "/note    1000\n",
       "Name: req.path, dtype: int64"
      ]
     },
     "execution_count": 27,
     "metadata": {},
     "output_type": "execute_result"
    }
   ],
   "source": [
    "xx['req.path'].value_counts()"
   ]
  },
  {
   "cell_type": "code",
   "execution_count": 28,
   "metadata": {},
   "outputs": [
    {
     "data": {
      "text/plain": [
       "http    1000\n",
       "Name: req.protocol, dtype: int64"
      ]
     },
     "execution_count": 28,
     "metadata": {},
     "output_type": "execute_result"
    }
   ],
   "source": [
    "xx['req.protocol'].value_counts()"
   ]
  },
  {
   "cell_type": "code",
   "execution_count": 29,
   "metadata": {},
   "outputs": [
    {
     "data": {
      "text/plain": [
       "False    1000\n",
       "Name: req.secure, dtype: int64"
      ]
     },
     "execution_count": 29,
     "metadata": {},
     "output_type": "execute_result"
    }
   ],
   "source": [
    "xx['req.secure'].value_counts()"
   ]
  },
  {
   "cell_type": "code",
   "execution_count": 30,
   "metadata": {},
   "outputs": [
    {
     "data": {
      "text/plain": [
       "True    1000\n",
       "Name: req.stale, dtype: int64"
      ]
     },
     "execution_count": 30,
     "metadata": {},
     "output_type": "execute_result"
    }
   ],
   "source": [
    "xx['req.stale'].value_counts()"
   ]
  },
  {
   "cell_type": "code",
   "execution_count": 31,
   "metadata": {},
   "outputs": [
    {
     "ename": "TypeError",
     "evalue": "unhashable type: 'list'",
     "output_type": "error",
     "traceback": [
      "\u001b[1;31m---------------------------------------------------------------------------\u001b[0m",
      "\u001b[1;31mTypeError\u001b[0m                                 Traceback (most recent call last)",
      "\u001b[1;32mpandas\\_libs\\hashtable_class_helper.pxi\u001b[0m in \u001b[0;36mpandas._libs.hashtable.PyObjectHashTable.map_locations\u001b[1;34m()\u001b[0m\n",
      "\u001b[1;31mTypeError\u001b[0m: unhashable type: 'list'"
     ]
    },
    {
     "name": "stderr",
     "output_type": "stream",
     "text": [
      "Exception ignored in: 'pandas._libs.index.IndexEngine._call_map_locations'\n",
      "Traceback (most recent call last):\n",
      "  File \"pandas\\_libs\\hashtable_class_helper.pxi\", line 1709, in pandas._libs.hashtable.PyObjectHashTable.map_locations\n",
      "TypeError: unhashable type: 'list'\n"
     ]
    },
    {
     "data": {
      "text/plain": [
       "[crm]    1000\n",
       "Name: req.subdomains, dtype: int64"
      ]
     },
     "execution_count": 31,
     "metadata": {},
     "output_type": "execute_result"
    }
   ],
   "source": [
    "xx['req.subdomains'].value_counts()"
   ]
  },
  {
   "cell_type": "code",
   "execution_count": 32,
   "metadata": {},
   "outputs": [
    {
     "data": {
      "text/plain": [
       "False    1000\n",
       "Name: req.xhr, dtype: int64"
      ]
     },
     "execution_count": 32,
     "metadata": {},
     "output_type": "execute_result"
    }
   ],
   "source": [
    "xx['req.xhr'].value_counts()"
   ]
  },
  {
   "cell_type": "code",
   "execution_count": null,
   "metadata": {},
   "outputs": [],
   "source": [
    "xx['req.baseUrl'].value_counts()"
   ]
  },
  {
   "cell_type": "markdown",
   "metadata": {},
   "source": [
    "All  columns  except  'isSafe',  'req.body.note.title'  and  'req.body.note.desc'  have  same  element  in  every  rows.\n",
    "So  we'll  make  a  new  dataframe  with  these  columns  only."
   ]
  },
  {
   "cell_type": "code",
   "execution_count": 37,
   "metadata": {},
   "outputs": [],
   "source": [
    "new = xx[['isSafe','req.body.note.title','req.body.note.desc']]\n"
   ]
  },
  {
   "cell_type": "code",
   "execution_count": 38,
   "metadata": {},
   "outputs": [
    {
     "data": {
      "text/html": [
       "<div>\n",
       "<style scoped>\n",
       "    .dataframe tbody tr th:only-of-type {\n",
       "        vertical-align: middle;\n",
       "    }\n",
       "\n",
       "    .dataframe tbody tr th {\n",
       "        vertical-align: top;\n",
       "    }\n",
       "\n",
       "    .dataframe thead th {\n",
       "        text-align: right;\n",
       "    }\n",
       "</style>\n",
       "<table border=\"1\" class=\"dataframe\">\n",
       "  <thead>\n",
       "    <tr style=\"text-align: right;\">\n",
       "      <th></th>\n",
       "      <th>isSafe</th>\n",
       "      <th>req.body.note.title</th>\n",
       "      <th>req.body.note.desc</th>\n",
       "    </tr>\n",
       "  </thead>\n",
       "  <tbody>\n",
       "    <tr>\n",
       "      <th>0</th>\n",
       "      <td>True</td>\n",
       "      <td>Tina Johnson</td>\n",
       "      <td>Top recognize eat. Fact whom spend area thing ...</td>\n",
       "    </tr>\n",
       "    <tr>\n",
       "      <th>1</th>\n",
       "      <td>True</td>\n",
       "      <td>Clayton Cooper</td>\n",
       "      <td>As possible American many prepare four strong....</td>\n",
       "    </tr>\n",
       "    <tr>\n",
       "      <th>2</th>\n",
       "      <td>False</td>\n",
       "      <td>Curtis Wolfe</td>\n",
       "      <td>Tuesday Notes or 2 like 2 XSP Class</td>\n",
       "    </tr>\n",
       "    <tr>\n",
       "      <th>3</th>\n",
       "      <td>True</td>\n",
       "      <td>Laura Fisher</td>\n",
       "      <td>State third represent energy campaign not forg...</td>\n",
       "    </tr>\n",
       "    <tr>\n",
       "      <th>4</th>\n",
       "      <td>False</td>\n",
       "      <td>Tyler Santos</td>\n",
       "      <td>Us enjoy since. Time identify image position o...</td>\n",
       "    </tr>\n",
       "  </tbody>\n",
       "</table>\n",
       "</div>"
      ],
      "text/plain": [
       "   isSafe req.body.note.title  \\\n",
       "0    True        Tina Johnson   \n",
       "1    True      Clayton Cooper   \n",
       "2   False        Curtis Wolfe   \n",
       "3    True        Laura Fisher   \n",
       "4   False        Tyler Santos   \n",
       "\n",
       "                                  req.body.note.desc  \n",
       "0  Top recognize eat. Fact whom spend area thing ...  \n",
       "1  As possible American many prepare four strong....  \n",
       "2                Tuesday Notes or 2 like 2 XSP Class  \n",
       "3  State third represent energy campaign not forg...  \n",
       "4  Us enjoy since. Time identify image position o...  "
      ]
     },
     "execution_count": 38,
     "metadata": {},
     "output_type": "execute_result"
    }
   ],
   "source": [
    "new.head()"
   ]
  },
  {
   "cell_type": "code",
   "execution_count": null,
   "metadata": {},
   "outputs": [],
   "source": []
  },
  {
   "cell_type": "code",
   "execution_count": null,
   "metadata": {},
   "outputs": [],
   "source": []
  },
  {
   "cell_type": "code",
   "execution_count": null,
   "metadata": {},
   "outputs": [],
   "source": []
  },
  {
   "cell_type": "code",
   "execution_count": null,
   "metadata": {},
   "outputs": [],
   "source": [
    "xx.isna().sum()"
   ]
  },
  {
   "cell_type": "code",
   "execution_count": 8,
   "metadata": {},
   "outputs": [
    {
     "name": "stdout",
     "output_type": "stream",
     "text": [
      "True     572\n",
      "False    428\n",
      "Name: isSafe, dtype: int64\n",
      "/crm/note    1000\n",
      "Name: req.baseUrl, dtype: int64\n",
      "Michael Smith     3\n",
      "Heather Smith     2\n",
      "David Adams       2\n",
      "Heather Davis     2\n",
      "Michael Davis     2\n",
      "                 ..\n",
      "Craig Williams    1\n",
      "Erika Johnson     1\n",
      "Meredith Jones    1\n",
      "Stacy Bailey      1\n",
      "Katie Lopez       1\n",
      "Name: req.body.note.title, Length: 994, dtype: int64\n",
      "note title <title onPropertyChange title onPropertyChange=\"javascript:javascript:alert(1)\"></title onPropertyChange>                                                          36\n",
      "Meeting \")) or ((\"x\"))=((\"x Notes 12:30                                                                                                                                       33\n",
      "text1<video src=1 href=1 onerror=\"javascript:alert(1)\"></video>hello                                                                                                          32\n",
      "admin\"/* your section of notes is going to be blank                                                                                                                           29\n",
      "ext1%3Cvideo+src%3D1+href%3D1+onerror%3D%22javascript%3Aalert%281%29%22%3E%3C%2Fvideo%3E                                                                                      29\n",
      "                                                                                                                                                                              ..\n",
      "In expect director into how always work. Cold shake trip value difference whatever.                                                                                            1\n",
      "Fall protect hope particular wife wonder table. Student cover campaign reality.                                                                                                1\n",
      "Either expect western follow matter fall allow. Many difference box follow. Tough catch administration not happen staff occur house.                                           1\n",
      "Spend into care far. Certain store when. Recently into sport enter.\\nLittle past safe newspaper power poor response fact. Mother word pressure wall class box number true.     1\n",
      "Top voice according. Yard word media. Entire question teach receive.\\nYour guy direction until continue evening trip. Throw though go stuff positive value.                    1\n",
      "Name: req.body.note.desc, Length: 750, dtype: int64\n",
      "False    1000\n",
      "Name: req.fresh, dtype: int64\n",
      "example.com    1000\n",
      "Name: req.headers.host, dtype: int64\n",
      "insomnia/2020.4.2    1000\n",
      "Name: req.headers.user-agent, dtype: int64\n",
      "application/json    1000\n",
      "Name: req.headers.content-type, dtype: int64\n",
      "5f572820f65af8ac955b2e83    1000\n",
      "Name: req.headers.org_id, dtype: int64\n",
      "5fb27d3750b11901a35649fe    1000\n",
      "Name: req.headers.user_session_id, dtype: int64\n",
      "*/*    1000\n",
      "Name: req.headers.accept, dtype: int64\n",
      "70    1000\n",
      "Name: req.headers.content-length, dtype: int64\n",
      "sam    1000\n",
      "Name: req.headers.user.name, dtype: int64\n",
      "sales1    1000\n",
      "Name: req.headers.user.role, dtype: int64\n",
      "example.com    1000\n",
      "Name: req.hostname, dtype: int64\n",
      "::ffff:117.99.96.244    1000\n",
      "Name: req.ip, dtype: int64\n",
      "[]    1000\n",
      "Name: req.ips, dtype: int64\n",
      "/crm/note    1000\n",
      "Name: req.originalUrl, dtype: int64\n",
      "/note    1000\n",
      "Name: req.path, dtype: int64\n",
      "http    1000\n",
      "Name: req.protocol, dtype: int64\n",
      "False    1000\n",
      "Name: req.secure, dtype: int64\n",
      "True    1000\n",
      "Name: req.stale, dtype: int64\n",
      "[crm]    1000\n",
      "Name: req.subdomains, dtype: int64\n",
      "False    1000\n",
      "Name: req.xhr, dtype: int64\n"
     ]
    }
   ],
   "source": [
    "for col in xx.columns: \n",
    "    print(xx[col].value_counts()) "
   ]
  },
  {
   "cell_type": "code",
   "execution_count": null,
   "metadata": {},
   "outputs": [],
   "source": [
    "import json\n",
    "\n",
    "jsondata='''{\n",
    "    \"duration\": 202.0,\n",
    "    \"session_info\": {\n",
    "        \"activation_uuid\": \"ab90d941-df9d-42c5-af81-069eb4f71515\",\n",
    "        \"launch_uuid\": \"11101c41-2d79-42cc-bf6d-37be46802fc8\"\n",
    "    },\n",
    "    \"timestamp\": \"2019-01-18T11:11:26.135Z\",\n",
    "    \"source_page_view_reference\": {\n",
    "        \"page_uuid\": \"1bede017-7b77-461d-82ef-a6bbcfdae4d7\",\n",
    "        \"page_id\": \"/group/More\",\n",
    "        \"page_name\": \"More\",\n",
    "        \"view_uuid\": \"9580f3c5-1116-432a-83bc-9d0b5337f661\",\n",
    "        \"page_type\": \"Native\"\n",
    "    },\n",
    "    \"analytics_sdk\": {\n",
    "        \"component_id\": \"datasdk\",\n",
    "        \"component_version\": \"1.0.52\"\n",
    "    },\n",
    "    \"treatment_id\": \"mockTreat\",\n",
    "    \"client_event_id\": \"2b3cd878-6932-410b-b1ad-bc40ae888fdc\",\n",
    "    \"campaign_id\": \"mockCamp\"\n",
    "}'''\n",
    "\n",
    "data = json.loads(jsondata)\n",
    "\n",
    "table=[[],[]]\n",
    "def dictList(d, column_name=''):\n",
    "    for k, v in d.items():\n",
    "        if isinstance(v, dict):\n",
    "            dictList(v, column_name=k)\n",
    "            continue\n",
    "        if column_name:\n",
    "            column_name+='.'\n",
    "        column_name +=k\n",
    "        table[0].append(column_name)\n",
    "        table[1].append(v)\n",
    "\n",
    "dictList(data)\n",
    "\n",
    "for row in table:\n",
    "    print (row)"
   ]
  },
  {
   "cell_type": "code",
   "execution_count": null,
   "metadata": {},
   "outputs": [],
   "source": []
  },
  {
   "cell_type": "code",
   "execution_count": null,
   "metadata": {},
   "outputs": [],
   "source": []
  },
  {
   "cell_type": "code",
   "execution_count": null,
   "metadata": {},
   "outputs": [],
   "source": []
  },
  {
   "cell_type": "code",
   "execution_count": null,
   "metadata": {},
   "outputs": [],
   "source": [
    "\"\"\"\n",
    "  {\n",
    "    \"req\": {\n",
    "      \"baseUrl\": \"/crm/note\",\n",
    "      \"body\": {\n",
    "        \"note\": {\n",
    "          \"title\": \"Tina Johnson\",\n",
    "          \"desc\": \"Top recognize eat. Fact whom spend area thing material.\\nWar no recent also message four billion. Water those deep.\\nWord amount table entire. Drug several the amount live newspaper.\"\n",
    "        }\n",
    "      },\n",
    "      \"fresh\": false,\n",
    "      \"headers\": {\n",
    "        \"host\": \"example.com\",\n",
    "        \"user-agent\": \"insomnia/2020.4.2\",\n",
    "        \"content-type\": \"application/json\",\n",
    "        \"org_id\": \"5f572820f65af8ac955b2e83\",\n",
    "        \"user_session_id\": \"5fb27d3750b11901a35649fe\",\n",
    "        \"accept\": \"*/*\",\n",
    "        \"content-length\": \"70\",\n",
    "        \"user\": {\n",
    "          \"name\": \"sam\",\n",
    "          \"role\": \"sales1\"\n",
    "        }\n",
    "      },\n",
    "      \"hostname\": \"example.com\",\n",
    "      \"ip\": \"::ffff:117.99.96.244\",\n",
    "      \"ips\": [],\n",
    "      \"originalUrl\": \"/crm/note\",\n",
    "      \"params\": {},\n",
    "      \"path\": \"/note\",\n",
    "      \"protocol\": \"http\",\n",
    "      \"query\": {},\n",
    "      \"secure\": false,\n",
    "      \"stale\": true,\n",
    "      \"subdomains\": [\n",
    "        \"crm\"\n",
    "      ],\n",
    "      \"xhr\": false\n",
    "    },\n",
    "    \"isSafe\": true\n",
    "  },\n",
    "  \"\"\""
   ]
  }
 ],
 "metadata": {
  "kernelspec": {
   "display_name": "Python 3",
   "language": "python",
   "name": "python3"
  },
  "language_info": {
   "codemirror_mode": {
    "name": "ipython",
    "version": 3
   },
   "file_extension": ".py",
   "mimetype": "text/x-python",
   "name": "python",
   "nbconvert_exporter": "python",
   "pygments_lexer": "ipython3",
   "version": "3.7.4"
  }
 },
 "nbformat": 4,
 "nbformat_minor": 2
}
